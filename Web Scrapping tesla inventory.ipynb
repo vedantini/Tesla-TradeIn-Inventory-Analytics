{
 "cells": [
  {
   "cell_type": "code",
   "execution_count": 5,
   "id": "f156f86b",
   "metadata": {
    "scrolled": true
   },
   "outputs": [
    {
     "name": "stdout",
     "output_type": "stream",
     "text": [
      "04:18:36 Searching Tesla's website in https://www.tesla.com/inventory/used/ms?TRIM=MSPLAID,MSAWD,MSPERF,75D&arrangeby=plh&zip=94555\n"
     ]
    },
    {
     "name": "stderr",
     "output_type": "stream",
     "text": [
      "C:\\Users\\STSC\\AppData\\Local\\Temp\\ipykernel_16664\\973004778.py:46: DeprecationWarning: executable_path has been deprecated, please pass in a Service object\n",
      "  browser = webdriver.Chrome('C:/Users/STSC/OneDrive - horizon.csueastbay.edu/Documents/Semester II/Data Analytics/Project 2023/chromedriver.exe', options=chrome_options)\n"
     ]
    },
    {
     "name": "stdout",
     "output_type": "stream",
     "text": [
      "04:19:18 Searching Tesla's website in https://www.tesla.com/inventory/used/mx?TRIM=75D&arrangeby=plh&zip=94555\n",
      "04:19:58 Searching Tesla's website in https://www.tesla.com/inventory/used/my?arrangeby=plh&zip=94555\n",
      "04:20:38 Searching Tesla's website in https://www.tesla.com/inventory/used/m3?arrangeby=plh&zip=94555\n",
      "Data Scrapped\n"
     ]
    }
   ],
   "source": [
    "\n",
    "import json\n",
    "import pprint\n",
    "import time\n",
    "import threading\n",
    "import re\n",
    "\n",
    "\n",
    "from datetime import datetime\n",
    "\n",
    "from bs4 import BeautifulSoup\n",
    "from selenium import webdriver\n",
    "from selenium.webdriver.support.ui import WebDriverWait\n",
    "from selenium.webdriver.support import expected_conditions as EC\n",
    "from selenium.webdriver.common.by import By\n",
    "from selenium.common.exceptions import TimeoutException\n",
    "from selenium.webdriver.chrome.options import Options\n",
    "#browser = webdriver.Chrome('C:\\\\path\\\\to\\\\chromedriver.exe')\n",
    "def Mbox(title, text, style):\n",
    "    return ctypes.windll.user32.MessageBoxW(0, text, title, style)\n",
    "\n",
    "import ctypes  # An included library with Python install.\n",
    "\n",
    "html = None\n",
    "\n",
    "urls = {\n",
    "    \"https://www.tesla.com/inventory/used/ms?TRIM=MSPLAID,MSAWD,MSPERF,75D&arrangeby=plh&zip=94555\",\n",
    "    \"https://www.tesla.com/inventory/used/m3?arrangeby=plh&zip=94555\",\n",
    "    \"https://www.tesla.com/inventory/used/mx?TRIM=75D&arrangeby=plh&zip=94555\",\n",
    "    \"https://www.tesla.com/inventory/used/my?arrangeby=plh&zip=94555\"\n",
    "}\n",
    "\n",
    "results_container_selector = 'div.results-container.results-container--grid.results-container--has-results'\n",
    "delay = 10  # seconds\n",
    "\n",
    "#priceThreshold = 1000000000000\n",
    "car={'price':[], 'colour':[],'car_type':[],'year':[],'trim':[],'mileage':[],'location':[],'wheels':[],'interior':[] }\n",
    "\n",
    "\n",
    "for city in urls:\n",
    "\n",
    "    try:\n",
    "\n",
    "        print(datetime.now().strftime(\"%H:%M:%S\") + \" Searching Tesla's website in \" + city)\n",
    "        chrome_options = Options()\n",
    "        chrome_options.add_argument(\"--headless\")\n",
    "        browser = webdriver.Chrome('C:/Users/STSC/OneDrive - horizon.csueastbay.edu/Documents/Semester II/Data Analytics/Project 2023/chromedriver.exe', options=chrome_options)\n",
    "        browser.get(city)\n",
    "\n",
    "        # wait for results to be displayed\n",
    "        WebDriverWait(browser, delay).until(\n",
    "            EC.presence_of_element_located((By.CSS_SELECTOR, results_container_selector))\n",
    "        )\n",
    "\n",
    "    except TimeoutException:\n",
    "        print('Loading took too much time!')\n",
    "    else:\n",
    "        html = browser.page_source\n",
    "    finally:\n",
    "        browser.quit()\n",
    "\n",
    "    if html:\n",
    "        soup = BeautifulSoup(html, 'lxml')\n",
    "        \n",
    "        for car_html in soup.select_one(results_container_selector).findChildren('article'):\n",
    "\n",
    "           \n",
    "            try:\n",
    "                #car['price'] = int(re.sub('[^0-9]','', car_html.select_one('section.result-header').select_one('div.result-pricing').select_one('div.result-price').select_one('span.result-purchase-price.tds-text--h4').text.replace('$', '').replace(',', '')))\n",
    "                price = int(re.sub('[^0-9]','', car_html.select_one('section.result-header').select_one('div.result-pricing').select_one('div.result-price').select_one('span.result-purchase-price.tds-text--h4').text.replace('$', '').replace(',', '')))\n",
    "                \n",
    "            except:\n",
    "                #car['price'] = \"0\"\n",
    "                price = \"0\"\n",
    "            try:\n",
    "                colour = car_html.select('section.result-features.features-grid')[0].select('ul')[1].select('li')[0].text.replace('Paint','')                                                \n",
    "            except:\n",
    "                colour =\"N/A\"\n",
    "            try:\n",
    "                car_type = car_html.select_one('section.result-header').select_one('div.result-basic-info').select_one('h3').text\n",
    "            except:\n",
    "                car_type = \"N/A\"\n",
    "            try:    \n",
    "                trim = car_html.select_one('section.result-header').select_one('div.result-basic-info').select('div')[0].text\n",
    "            except:\n",
    "                trim = \"N/A\"\n",
    "            try:\n",
    "                mileage = int(car_html.select_one('section.result-header').select_one('div.result-basic-info').select('div')[1].text.replace('Less than ', '').replace(' mile odometer', '').replace(',', ''))\n",
    "            except:\n",
    "                mileage = \"0\"\n",
    "            try:\n",
    "                location = car_html.select_one('section.result-header').select_one('div.result-basic-info').select('div')[2].text\n",
    "            except:\n",
    "                location = \"N/A\"\n",
    "            try:\n",
    "                wheels = re.sub('[^0-9]', '', car_html.select('section.result-features.features-grid')[0].select('ul')[1].select('li')[1].text) + \" inch wheels\"\n",
    "            except:\n",
    "                wheels = \"N/A\"\n",
    "            try:\n",
    "                interior = car_html.select('section.result-features.features-grid')[0].select('ul')[1].select('li')[2].text\n",
    "            except:\n",
    "                interior = \"N/A\"\n",
    "          \n",
    "                \n",
    "        #Append collected data into a list\n",
    "            car['price'].append(price)\n",
    "            car['colour'].append(colour)\n",
    "            car['car_type'].append(car_type[5:])\n",
    "            car['year'].append(car_type[0:4])\n",
    "            car['trim'].append(trim)\n",
    "            car['mileage'].append(mileage)\n",
    "            car['location'].append(location)\n",
    "            car['wheels'].append(wheels)\n",
    "            car['interior'].append(interior)\n",
    "           \n",
    "        \n",
    "        time.sleep(30) # seconds\n",
    "print(\"Data Scrapped\")\n",
    "\n",
    "\n"
   ]
  },
  {
   "cell_type": "code",
   "execution_count": 6,
   "id": "a9fbedc1",
   "metadata": {},
   "outputs": [],
   "source": [
    "import pandas as pd\n",
    "df=pd.DataFrame.from_dict(car, orient='index') #convert dictionary to dataframe and add Nan to unfilled values\n",
    "df=df.T #transpose dataframe\n",
    "#Data Cleaning\n",
    "#drop all null and rest index\n",
    "df = df.dropna()\n",
    "df.reset_index(inplace=True, drop=True)\n",
    "df.to_csv('Tesla_Inventory.csv') #Convert dataframe to csv file"
   ]
  },
  {
   "cell_type": "code",
   "execution_count": null,
   "id": "456c55be",
   "metadata": {},
   "outputs": [],
   "source": [
    "\n"
   ]
  }
 ],
 "metadata": {
  "kernelspec": {
   "display_name": "Python 3 (ipykernel)",
   "language": "python",
   "name": "python3"
  },
  "language_info": {
   "codemirror_mode": {
    "name": "ipython",
    "version": 3
   },
   "file_extension": ".py",
   "mimetype": "text/x-python",
   "name": "python",
   "nbconvert_exporter": "python",
   "pygments_lexer": "ipython3",
   "version": "3.9.13"
  }
 },
 "nbformat": 4,
 "nbformat_minor": 5
}
